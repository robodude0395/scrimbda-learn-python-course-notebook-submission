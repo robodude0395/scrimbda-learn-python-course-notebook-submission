{
 "cells": [
  {
   "cell_type": "code",
   "execution_count": null,
   "id": "14a450ee",
   "metadata": {},
   "outputs": [
    {
     "data": {
      "text/plain": [
       "999999"
      ]
     },
     "execution_count": 1,
     "metadata": {},
     "output_type": "execute_result"
    }
   ],
   "source": [
    "from collections import defaultdict\n",
    "import numpy as np\n",
    "\n",
    "#Work out the largest palindrome of x digit numbers \n",
    "def largest_palindrome(digits):\n",
    "    values_dict = defaultdict(list)\n",
    "    nums = np.array([n  for n in range(10, int(\"9\"*digits)+1) if n%10 != 0])\n",
    "    nums_reversed = np.array([int(str(n)[::-1]) for n in nums])\n",
    "\n",
    "    masked_nums = nums - nums_reversed\n",
    "\n",
    "    masked_nums_dict = {key : value for (key, value) in zip(nums, masked_nums)}\n",
    "\n",
    "    palindromes = [num for num, value in masked_nums_dict.items() if value == 0]\n",
    "\n",
    "    return palindromes[-1].tolist() #or max(palindromes)!\n",
    "\n",
    "largest_palindrome(6)"
   ]
  }
 ],
 "metadata": {
  "kernelspec": {
   "display_name": "rl_env",
   "language": "python",
   "name": "python3"
  },
  "language_info": {
   "codemirror_mode": {
    "name": "ipython",
    "version": 3
   },
   "file_extension": ".py",
   "mimetype": "text/x-python",
   "name": "python",
   "nbconvert_exporter": "python",
   "pygments_lexer": "ipython3",
   "version": "3.10.18"
  }
 },
 "nbformat": 4,
 "nbformat_minor": 5
}
